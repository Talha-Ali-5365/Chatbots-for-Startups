{
 "cells": [
  {
   "cell_type": "markdown",
   "metadata": {},
   "source": [
    "## Build Your Own Company's AI Assistant\n",
    "\n",
    "#### Unlock the power of chatbots to boost customer engagement and streamline your business! Join us for an interactive online session where you'll learn how to implement and leverage chatbots to drive growth.\n",
    "\n",
    "- This notebook contains the code for the AI assistant that we will build in the workshop.\n"
   ]
  },
  {
   "cell_type": "markdown",
   "metadata": {},
   "source": [
    "#### Importing the necessary libraries\n",
    "- Check `requirements.txt` for the necessary libraries and install them using `pip install -r requirements.txt`"
   ]
  },
  {
   "cell_type": "code",
   "execution_count": 3,
   "metadata": {},
   "outputs": [],
   "source": [
    "from groq import Groq\n",
    "import random\n",
    "from config import Groq_api_key\n",
    "from langchain.chains import ConversationChain, LLMChain\n",
    "from langchain_core.prompts import (\n",
    "    ChatPromptTemplate,\n",
    "    HumanMessagePromptTemplate,\n",
    "    MessagesPlaceholder,\n",
    ")\n",
    "from langchain_core.messages import SystemMessage\n",
    "from langchain.chains.conversation.memory import ConversationBufferWindowMemory\n",
    "from langchain_groq import ChatGroq\n",
    "from langchain.prompts import PromptTemplate\n",
    "import os "
   ]
  },
  {
   "cell_type": "markdown",
   "metadata": {},
   "source": [
    "- Initializing `Groq`:"
   ]
  },
  {
   "cell_type": "code",
   "execution_count": 4,
   "metadata": {},
   "outputs": [],
   "source": [
    "os.environ[\"GROQ_API_KEY\"] = Groq_api_key"
   ]
  },
  {
   "cell_type": "code",
   "execution_count": 5,
   "metadata": {},
   "outputs": [],
   "source": [
    "groq_chat = ChatGroq(groq_api_key= Groq_api_key, model_name='llama-3.1-70b-versatile' )"
   ]
  },
  {
   "cell_type": "markdown",
   "metadata": {},
   "source": [
    "- System prompt guides the chatbot's behavior and responses, ensuring it provides relevant, accurate, and context-specific information."
   ]
  },
  {
   "cell_type": "code",
   "execution_count": 16,
   "metadata": {},
   "outputs": [],
   "source": [
    "system_prompt = \"\"\"You are an intelligent assistant designed to support employees in maximizing productivity, collaboration, and innovation within the company. Provide guidance on optimizing workflows, improving communication, and leveraging smart tools and technologies. Assist with project management, task prioritization, and decision-making. Offer strategic insights to help teams meet company goals, solve internal challenges, and drive growth. Keep responses focused on practical solutions, efficiency, and fostering a culture of innovation.\"\"\""
   ]
  },
  {
   "cell_type": "markdown",
   "metadata": {},
   "source": [
    "- **SystemMessage**: Initializes the chatbot with a predefined `system_prompt`, guiding its responses.\n",
    "- **HumanMessagePromptTemplate**: Defines the format for user input with a placeholder for `{human_input}`, allowing the chatbot to understand and respond to user queries effectively."
   ]
  },
  {
   "cell_type": "code",
   "execution_count": 17,
   "metadata": {},
   "outputs": [],
   "source": [
    "prompt = ChatPromptTemplate.from_messages(\n",
    "            [\n",
    "                SystemMessage(\n",
    "                    content=system_prompt\n",
    "                ),\n",
    "                HumanMessagePromptTemplate.from_template(\n",
    "                    \"{human_input}\"\n",
    "                ),\n",
    "            ]\n",
    "        )"
   ]
  },
  {
   "cell_type": "markdown",
   "metadata": {},
   "source": [
    "- **llm**: Specifies the language model (`groq_chat`) that will generate responses.\n",
    "- **prompt**: Uses the previously defined prompt template to structure the interaction.\n",
    "- **verbose**: Enables detailed output, providing insights into the processing and responses during the conversation.\n"
   ]
  },
  {
   "cell_type": "code",
   "execution_count": 18,
   "metadata": {},
   "outputs": [],
   "source": [
    "conversation = LLMChain(\n",
    "            llm=groq_chat,\n",
    "            prompt=prompt,\n",
    "            verbose=True, \n",
    "        )"
   ]
  },
  {
   "cell_type": "code",
   "execution_count": 19,
   "metadata": {},
   "outputs": [],
   "source": [
    "question = \"What is the best way to launch a new product to the market?\""
   ]
  },
  {
   "cell_type": "code",
   "execution_count": 20,
   "metadata": {},
   "outputs": [
    {
     "name": "stdout",
     "output_type": "stream",
     "text": [
      "\n",
      "\n",
      "\u001b[1m> Entering new LLMChain chain...\u001b[0m\n",
      "Prompt after formatting:\n",
      "\u001b[32;1m\u001b[1;3mSystem: You are an intelligent assistant designed to support employees in maximizing productivity, collaboration, and innovation within the company. Provide guidance on optimizing workflows, improving communication, and leveraging smart tools and technologies. Assist with project management, task prioritization, and decision-making. Offer strategic insights to help teams meet company goals, solve internal challenges, and drive growth. Keep responses focused on practical solutions, efficiency, and fostering a culture of innovation.\n",
      "Human: What is the best way to launch a new product to the market?\u001b[0m\n",
      "\n",
      "\u001b[1m> Finished chain.\u001b[0m\n"
     ]
    }
   ],
   "source": [
    "response = conversation.predict(human_input=question)"
   ]
  },
  {
   "cell_type": "markdown",
   "metadata": {},
   "source": [
    "- Displaying the response in markdown: "
   ]
  },
  {
   "cell_type": "code",
   "execution_count": 21,
   "metadata": {},
   "outputs": [
    {
     "data": {
      "text/markdown": [
       "Launching a new product to the market requires careful planning, strategic execution, and a well-defined launch plan. Here's a step-by-step approach to help you successfully launch a new product:\n",
       "\n",
       "**Pre-Launch (Weeks/Months Before)**\n",
       "\n",
       "1. **Define your target audience**: Identify your ideal customer segment, their pain points, and what motivates them to buy.\n",
       "2. **Conduct market research**: Gather feedback from potential customers, analyze competitors, and assess market trends.\n",
       "3. **Develop a unique value proposition (UVP)**: Clearly articulate the benefits and differentiators of your product.\n",
       "4. **Create a product roadmap**: Outline the product's features, development timeline, and milestones.\n",
       "5. **Establish a launch team**: Assemble a cross-functional team, including marketing, sales, product, and customer support.\n",
       "\n",
       "**Launch Preparation (4-6 Weeks Before)**\n",
       "\n",
       "1. **Develop a launch plan**: Outline specific goals, objectives, timelines, and tasks for each team member.\n",
       "2. **Create launch materials**: Design marketing assets, such as product videos, brochures, and website content.\n",
       "3. **Establish a sales strategy**: Define pricing, sales channels, and sales enablement tools.\n",
       "4. **Plan a launch event**: Organize a launch event, webinar, or demo day to generate buzz.\n",
       "5. **Coordinate with influencers and partners**: Reach out to industry influencers, partners, and suppliers to amplify the launch.\n",
       "\n",
       "**Launch Day**\n",
       "\n",
       "1. **Launch the product**: Make the product available to the public, and update your website and social media channels.\n",
       "2. **Execute the launch plan**: Activate marketing campaigns, send out press releases, and engage with customers.\n",
       "3. **Monitor and adjust**: Track launch metrics, such as website traffic, sales, and customer feedback.\n",
       "\n",
       "**Post-Launch (Weeks/Months After)**\n",
       "\n",
       "1. **Gather feedback**: Collect customer feedback, and use it to improve the product and customer experience.\n",
       "2. **Optimize marketing campaigns**: Refine marketing strategies based on launch metrics and customer insights.\n",
       "3. **Continue to innovate**: Regularly update the product to stay competitive and meet evolving customer needs.\n",
       "4. **Review and adjust the launch plan**: Analyze the launch's success, and apply lessons learned to future product launches.\n",
       "\n",
       "**Smart Tools and Technologies**\n",
       "\n",
       "1. **Project management tools**: Utilize tools like Asana, Trello, or Jira to manage the launch plan and collaborate with the team.\n",
       "2. **Marketing automation tools**: Leverage tools like Marketo, HubSpot, or Pardot to streamline marketing campaigns.\n",
       "3. **Customer feedback tools**: Use tools like SurveyMonkey, UserVoice, or Medallia to collect and analyze customer feedback.\n",
       "4. **Analytics tools**: Employ tools like Google Analytics, Mixpanel, or Heap to track launch metrics and customer behavior.\n",
       "\n",
       "By following this structured approach, you'll be well-prepared to launch a successful new product that meets customer needs and drives business growth."
      ],
      "text/plain": [
       "<IPython.core.display.Markdown object>"
      ]
     },
     "metadata": {},
     "output_type": "display_data"
    }
   ],
   "source": [
    "from IPython.display import display, Markdown\n",
    "\n",
    "display(Markdown(response))"
   ]
  }
 ],
 "metadata": {
  "kernelspec": {
   "display_name": "test",
   "language": "python",
   "name": "python3"
  },
  "language_info": {
   "codemirror_mode": {
    "name": "ipython",
    "version": 3
   },
   "file_extension": ".py",
   "mimetype": "text/x-python",
   "name": "python",
   "nbconvert_exporter": "python",
   "pygments_lexer": "ipython3",
   "version": "3.12.3"
  }
 },
 "nbformat": 4,
 "nbformat_minor": 2
}
