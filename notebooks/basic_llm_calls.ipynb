{
 "cells": [
  {
   "cell_type": "markdown",
   "metadata": {},
   "source": [
    "# Gemini"
   ]
  },
  {
   "cell_type": "markdown",
   "metadata": {},
   "source": [
    "#### Importing the necessary libraries\n",
    "- Setup a virtual environment using `python -m venv <envirment_name>`\n",
    "- Check `requirements.txt` for the necessary libraries and install them using `pip install -r requirements.txt`"
   ]
  },
  {
   "cell_type": "code",
   "execution_count": 4,
   "metadata": {},
   "outputs": [],
   "source": [
    "from langchain_google_genai import ChatGoogleGenerativeAI\n",
    "from config import Google_api_key \n",
    "import os"
   ]
  },
  {
   "cell_type": "code",
   "execution_count": 57,
   "metadata": {},
   "outputs": [],
   "source": [
    "model_gemini = ChatGoogleGenerativeAI(\n",
    "    model='gemini-1.5-flash-latest', \n",
    "    api_key=Google_api_key\n",
    ")"
   ]
  },
  {
   "cell_type": "code",
   "execution_count": 54,
   "metadata": {},
   "outputs": [],
   "source": [
    "import google.generativeai as genai\n",
    "genai.configure(api_key=Google_api_key)"
   ]
  },
  {
   "cell_type": "code",
   "execution_count": 55,
   "metadata": {},
   "outputs": [
    {
     "name": "stdout",
     "output_type": "stream",
     "text": [
      "Name: models/chat-bison-001 Description: A legacy text-only model optimized for chat conversations support: ['generateMessage', 'countMessageTokens']\n",
      "Name: models/text-bison-001 Description: A legacy model that understands text and generates text as an output support: ['generateText', 'countTextTokens', 'createTunedTextModel']\n",
      "Name: models/embedding-gecko-001 Description: Obtain a distributed representation of a text. support: ['embedText', 'countTextTokens']\n",
      "Name: models/gemini-1.0-pro-latest Description: The best model for scaling across a wide range of tasks. This is the latest model. support: ['generateContent', 'countTokens']\n",
      "Name: models/gemini-1.0-pro Description: The best model for scaling across a wide range of tasks support: ['generateContent', 'countTokens']\n"
     ]
    }
   ],
   "source": [
    "for i, m in zip(range(5), genai.list_models()):\n",
    "        print(f\"Name: {m.name} Description: {m.description} support: {m.supported_generation_methods}\")"
   ]
  },
  {
   "cell_type": "code",
   "execution_count": 46,
   "metadata": {},
   "outputs": [],
   "source": [
    "output_gemini = model_gemini.invoke('what is google gemini?')"
   ]
  },
  {
   "cell_type": "code",
   "execution_count": 56,
   "metadata": {},
   "outputs": [
    {
     "name": "stdout",
     "output_type": "stream",
     "text": [
      "content=\"Google Gemini is a **next-generation AI model** being developed by Google. It's designed to be a **multimodal AI system** capable of understanding and generating various types of information, including:\\n\\n* **Text:**  Gemini can read, summarize, translate, and write text in different languages.\\n* **Images:** It can analyze and understand images, including identifying objects, scenes, and emotions.\\n* **Audio:**  Gemini can process and understand speech, including transcribing and translating audio.\\n* **Video:** It can analyze video content, recognizing actions, objects, and scenes.\\n* **Code:** Gemini can understand and generate code in multiple programming languages.\\n\\n**Key features of Google Gemini:**\\n\\n* **Advanced reasoning and problem-solving:** Gemini aims to go beyond simply understanding information and be able to reason and solve complex problems.\\n* **Multimodal understanding:** Gemini can integrate information from different sources (text, images, audio, video) to form a more complete understanding.\\n* **Contextual awareness:** It can maintain context throughout a conversation or task, allowing for more natural and nuanced interactions.\\n* **Improved safety and alignment:** Google emphasizes building Gemini with safety and alignment in mind, ensuring responsible and ethical use.\\n\\n**Comparison to other Google AI models:**\\n\\n* **Bard:** Google's current conversational AI, Bard is based on LaMDA (Language Model for Dialogue Applications). Gemini is expected to be a significant advancement over Bard, with more capabilities and a deeper understanding of information.\\n* **PaLM 2:** Google's powerful text-based language model, PaLM 2, is known for its impressive language abilities. Gemini is expected to build upon PaLM 2's strengths while incorporating multimodal capabilities.\\n\\n**Current status:**\\n\\nGoogle is currently in the process of developing and testing Gemini. While details about its specific capabilities and release date are limited, it's expected to be a significant advancement in AI technology.\\n\\n**Potential applications:**\\n\\nGemini's capabilities could have wide-ranging applications, including:\\n\\n* **Personalized search and information retrieval:** More accurate and relevant search results.\\n* **Content creation:** Assisting in writing, generating images, and creating videos.\\n* **Education:** Personalized learning experiences and intelligent tutoring systems.\\n* **Customer service:**  Enhanced chatbots and virtual assistants.\\n* **Healthcare:**  Medical diagnosis and treatment recommendations.\\n\\nOverall, Google Gemini promises to be a game-changer in the field of AI, with the potential to revolutionize how we interact with information and technology. \\n\" additional_kwargs={} response_metadata={'prompt_feedback': {'block_reason': 0, 'safety_ratings': []}, 'finish_reason': 'STOP', 'safety_ratings': [{'category': 'HARM_CATEGORY_SEXUALLY_EXPLICIT', 'probability': 'NEGLIGIBLE', 'blocked': False}, {'category': 'HARM_CATEGORY_HATE_SPEECH', 'probability': 'NEGLIGIBLE', 'blocked': False}, {'category': 'HARM_CATEGORY_HARASSMENT', 'probability': 'NEGLIGIBLE', 'blocked': False}, {'category': 'HARM_CATEGORY_DANGEROUS_CONTENT', 'probability': 'NEGLIGIBLE', 'blocked': False}]} id='run-08640af8-1505-4882-8cfd-9e988a775386-0' usage_metadata={'input_tokens': 7, 'output_tokens': 525, 'total_tokens': 532}\n"
     ]
    }
   ],
   "source": [
    "print (output_gemini)"
   ]
  },
  {
   "cell_type": "code",
   "execution_count": 48,
   "metadata": {},
   "outputs": [
    {
     "data": {
      "text/markdown": [
       "Google Gemini is a **next-generation AI model** being developed by Google. It's designed to be a **multimodal AI system** capable of understanding and generating various types of information, including:\n",
       "\n",
       "* **Text:**  Gemini can read, summarize, translate, and write text in different languages.\n",
       "* **Images:** It can analyze and understand images, including identifying objects, scenes, and emotions.\n",
       "* **Audio:**  Gemini can process and understand speech, including transcribing and translating audio.\n",
       "* **Video:** It can analyze video content, recognizing actions, objects, and scenes.\n",
       "* **Code:** Gemini can understand and generate code in multiple programming languages.\n",
       "\n",
       "**Key features of Google Gemini:**\n",
       "\n",
       "* **Advanced reasoning and problem-solving:** Gemini aims to go beyond simply understanding information and be able to reason and solve complex problems.\n",
       "* **Multimodal understanding:** Gemini can integrate information from different sources (text, images, audio, video) to form a more complete understanding.\n",
       "* **Contextual awareness:** It can maintain context throughout a conversation or task, allowing for more natural and nuanced interactions.\n",
       "* **Improved safety and alignment:** Google emphasizes building Gemini with safety and alignment in mind, ensuring responsible and ethical use.\n",
       "\n",
       "**Comparison to other Google AI models:**\n",
       "\n",
       "* **Bard:** Google's current conversational AI, Bard is based on LaMDA (Language Model for Dialogue Applications). Gemini is expected to be a significant advancement over Bard, with more capabilities and a deeper understanding of information.\n",
       "* **PaLM 2:** Google's powerful text-based language model, PaLM 2, is known for its impressive language abilities. Gemini is expected to build upon PaLM 2's strengths while incorporating multimodal capabilities.\n",
       "\n",
       "**Current status:**\n",
       "\n",
       "Google is currently in the process of developing and testing Gemini. While details about its specific capabilities and release date are limited, it's expected to be a significant advancement in AI technology.\n",
       "\n",
       "**Potential applications:**\n",
       "\n",
       "Gemini's capabilities could have wide-ranging applications, including:\n",
       "\n",
       "* **Personalized search and information retrieval:** More accurate and relevant search results.\n",
       "* **Content creation:** Assisting in writing, generating images, and creating videos.\n",
       "* **Education:** Personalized learning experiences and intelligent tutoring systems.\n",
       "* **Customer service:**  Enhanced chatbots and virtual assistants.\n",
       "* **Healthcare:**  Medical diagnosis and treatment recommendations.\n",
       "\n",
       "Overall, Google Gemini promises to be a game-changer in the field of AI, with the potential to revolutionize how we interact with information and technology. \n"
      ],
      "text/plain": [
       "<IPython.core.display.Markdown object>"
      ]
     },
     "metadata": {},
     "output_type": "display_data"
    }
   ],
   "source": [
    "from IPython.display import display, Markdown\n",
    "display(Markdown(output_gemini.content))"
   ]
  },
  {
   "cell_type": "markdown",
   "metadata": {},
   "source": [
    "# Groq"
   ]
  },
  {
   "cell_type": "code",
   "execution_count": 22,
   "metadata": {},
   "outputs": [],
   "source": [
    "from langchain_groq import ChatGroq\n",
    "from config import Groq_api_key"
   ]
  },
  {
   "cell_type": "code",
   "execution_count": 23,
   "metadata": {},
   "outputs": [],
   "source": [
    "model_groq = ChatGroq(\n",
    "    model='llama-3.1-70b-versatile',\n",
    "    api_key = Groq_api_key\n",
    ")"
   ]
  },
  {
   "cell_type": "code",
   "execution_count": 25,
   "metadata": {},
   "outputs": [],
   "source": [
    "output_groq = model_groq.invoke('tell me about gen ai?')"
   ]
  },
  {
   "cell_type": "code",
   "execution_count": 26,
   "metadata": {},
   "outputs": [
    {
     "data": {
      "text/markdown": [
       "Generative AI, also known as Gen AI, refers to a type of artificial intelligence (AI) that uses machine learning algorithms to generate new, original content such as text, images, videos, music, and more. This technology has gained significant attention in recent years due to its potential to revolutionize various industries and transform the way we create and interact with digital content.\n",
       "\n",
       "**Key characteristics of Gen AI:**\n",
       "\n",
       "1. **Generative**: Gen AI algorithms can generate new content that is similar in style and structure to the training data.\n",
       "2. **Unsupervised learning**: Gen AI models can learn from large datasets without explicit guidance or labeling.\n",
       "3. **Neural networks**: Gen AI models are typically built using neural networks, which are composed of layers of interconnected nodes (neurons) that process and transform inputs.\n",
       "\n",
       "**Types of Gen AI:**\n",
       "\n",
       "1. **Text-to-Text**: These models generate text based on input text, such as language translation, text summarization, and chatbots.\n",
       "2. **Text-to-Image**: These models generate images based on input text, such as generating images of objects or scenes described in text.\n",
       "3. **Image-to-Image**: These models generate new images based on input images, such as image-to-image translation, image segmentation, and image generation.\n",
       "4. **Audio-to-Text**: These models generate text based on input audio, such as speech recognition and transcription.\n",
       "\n",
       "**Applications of Gen AI:**\n",
       "\n",
       "1. **Content creation**: Gen AI can generate high-quality content, such as articles, social media posts, and product descriptions.\n",
       "2. **Art and design**: Gen AI can generate original art, music, and designs, such as generative art, music composition, and product design.\n",
       "3. **Virtual assistants**: Gen AI can power virtual assistants, such as chatbots and voice assistants, to provide customer support and answer questions.\n",
       "4. **Education**: Gen AI can generate personalized educational content, such as customized textbooks and learning materials.\n",
       "\n",
       "**Benefits of Gen AI:**\n",
       "\n",
       "1. **Increased productivity**: Gen AI can automate content creation, freeing up time for more strategic and creative tasks.\n",
       "2. **Improved accuracy**: Gen AI can generate content that is more accurate and consistent than human-generated content.\n",
       "3. **Enhanced creativity**: Gen AI can generate novel and innovative ideas that humans may not have thought of before.\n",
       "\n",
       "**Challenges and limitations of Gen AI:**\n",
       "\n",
       "1. **Bias and fairness**: Gen AI models can perpetuate biases and stereotypes present in the training data.\n",
       "2. **Explainability**: Gen AI models can be difficult to interpret and understand, making it challenging to identify errors or biases.\n",
       "3. **Job displacement**: Gen AI has the potential to automate jobs, particularly those that involve repetitive or routine tasks.\n",
       "\n",
       "**Future of Gen AI:**\n",
       "\n",
       "1. **Advancements in algorithms**: Researchers are working on developing more advanced and efficient algorithms that can handle complex tasks.\n",
       "2. **Increased adoption**: Gen AI is expected to become more widely adopted across industries, leading to new applications and use cases.\n",
       "3. **Addressing challenges**: Efforts are being made to address the challenges and limitations of Gen AI, such as bias and explainability.\n",
       "\n",
       "Overall, Gen AI has the potential to revolutionize various industries and transform the way we create and interact with digital content. However, it is essential to address the challenges and limitations of Gen AI to ensure that its benefits are realized while minimizing its risks."
      ],
      "text/plain": [
       "<IPython.core.display.Markdown object>"
      ]
     },
     "metadata": {},
     "output_type": "display_data"
    }
   ],
   "source": [
    "from IPython.display import display, Markdown\n",
    "display(Markdown(output_groq.content))\n",
    "\n"
   ]
  }
 ],
 "metadata": {
  "kernelspec": {
   "display_name": "test",
   "language": "python",
   "name": "python3"
  },
  "language_info": {
   "codemirror_mode": {
    "name": "ipython",
    "version": 3
   },
   "file_extension": ".py",
   "mimetype": "text/x-python",
   "name": "python",
   "nbconvert_exporter": "python",
   "pygments_lexer": "ipython3",
   "version": "3.12.3"
  }
 },
 "nbformat": 4,
 "nbformat_minor": 2
}
