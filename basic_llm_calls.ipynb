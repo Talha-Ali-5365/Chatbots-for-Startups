{
 "cells": [
  {
   "cell_type": "markdown",
   "metadata": {},
   "source": [
    "# Gemini"
   ]
  },
  {
   "cell_type": "code",
   "execution_count": 17,
   "metadata": {},
   "outputs": [],
   "source": [
    "from langchain_google_genai import ChatGoogleGenerativeAI\n",
    "import os\n",
    "from config import groq_api_key,google_api_key\n",
    "os.environ['GOOGLE_API_KEY'] = google_api_key\n",
    "model_gemini = ChatGoogleGenerativeAI(\n",
    "    model='gemini-1.5-flash-latest'\n",
    ")"
   ]
  },
  {
   "cell_type": "code",
   "execution_count": 20,
   "metadata": {},
   "outputs": [],
   "source": [
    "output_gemini = model_gemini.invoke('what is google gemini?')"
   ]
  },
  {
   "cell_type": "code",
   "execution_count": 21,
   "metadata": {},
   "outputs": [
    {
     "data": {
      "text/markdown": [
       "Google Gemini is a **next-generation, multimodal AI system** being developed by Google. It's designed to be significantly more powerful and versatile than its predecessors like LaMDA and Bard. \n",
       "\n",
       "Here's a breakdown of what makes Gemini special:\n",
       "\n",
       "**Key Features:**\n",
       "\n",
       "* **Multimodal:** Gemini can understand and generate different types of information, including text, code, images, audio, and video. This allows it to perform a wider range of tasks than traditional AI systems.\n",
       "* **Advanced Reasoning and Problem-Solving:** Gemini is designed to be exceptionally good at reasoning, problem-solving, and planning. It can learn from complex information and apply its knowledge to new situations.\n",
       "* **Contextual Understanding:** Gemini excels at understanding context, meaning it can interpret information in relation to its surroundings and previous interactions. This makes it more natural and intuitive to interact with.\n",
       "* **Adaptive Learning:** Gemini continuously learns and improves its abilities over time through ongoing training and interaction with users.\n",
       "\n",
       "**How it Differs from Bard:**\n",
       "\n",
       "* **Enhanced Capabilities:** Gemini is expected to have significantly more powerful capabilities than Bard, including a deeper understanding of complex information and a wider range of skills.\n",
       "* **Multimodality:**  While Bard is primarily focused on text, Gemini will be able to work with various media types, making it more versatile.\n",
       "* **Future-Focused:**  Gemini is seen as Google's long-term strategy for AI, while Bard is a more immediate response to the rise of ChatGPT.\n",
       "\n",
       "**Current Status and Availability:**\n",
       "\n",
       "* Gemini is still under development and is not yet publicly available. Google has released limited information about its capabilities and plans to release different versions tailored to specific use cases.\n",
       "\n",
       "**Potential Applications:**\n",
       "\n",
       "* **Search and Information Retrieval:** Gemini could revolutionize search by providing more comprehensive and insightful answers.\n",
       "* **Content Creation:** It can assist in writing, coding, and generating creative content across various formats.\n",
       "* **Productivity and Automation:**  Gemini can automate tasks, improve workflows, and enhance productivity in various fields.\n",
       "* **Education and Research:** It can be used for learning, research, and knowledge discovery.\n",
       "\n",
       "**Overall, Google Gemini represents a significant leap forward in AI technology. Its advanced capabilities and multimodal nature have the potential to transform various industries and aspects of our lives.**\n"
      ],
      "text/plain": [
       "<IPython.core.display.Markdown object>"
      ]
     },
     "metadata": {},
     "output_type": "display_data"
    }
   ],
   "source": [
    "from IPython.display import display, Markdown\n",
    "display(Markdown(output_gemini.content))\n",
    "\n"
   ]
  },
  {
   "cell_type": "markdown",
   "metadata": {},
   "source": [
    "# Groq"
   ]
  },
  {
   "cell_type": "code",
   "execution_count": 22,
   "metadata": {},
   "outputs": [],
   "source": [
    "from langchain_groq import ChatGroq\n"
   ]
  },
  {
   "cell_type": "code",
   "execution_count": 23,
   "metadata": {},
   "outputs": [],
   "source": [
    "model_groq = ChatGroq(\n",
    "    model='llama-3.1-70b-versatile',\n",
    "    api_key = groq_api_key\n",
    ")"
   ]
  },
  {
   "cell_type": "code",
   "execution_count": 24,
   "metadata": {},
   "outputs": [],
   "source": [
    "output_groq = model_groq.invoke('tell me about gen ai?')"
   ]
  },
  {
   "cell_type": "code",
   "execution_count": 25,
   "metadata": {},
   "outputs": [
    {
     "data": {
      "text/markdown": [
       "Gen AI, also known as Generative AI, is a type of artificial intelligence that uses complex algorithms and machine learning techniques to generate new, original content, such as text, images, videos, music, and more. Gen AI models are trained on large datasets, which enables them to learn patterns, relationships, and structures within the data.\n",
       "\n",
       "Some key characteristics of Gen AI include:\n",
       "\n",
       "1. **Generativity**: Gen AI models can generate new content that is not simply a copy of existing data. Instead, they create novel combinations of patterns, styles, and ideas.\n",
       "2. **Creativity**: Gen AI models can produce content that is not only new but also creative, meaning it can exhibit originality, innovation, and imagination.\n",
       "3. **Autonomy**: Gen AI models can work independently, without human intervention, to generate content.\n",
       "\n",
       "Types of Gen AI:\n",
       "\n",
       "1. **Text-to-Text**: Models that generate text based on input text, such as language translation, text summarization, and chatbots.\n",
       "2. **Image-to-Image**: Models that generate images based on input images, such as image-to-image translation, style transfer, and image generation.\n",
       "3. **Music Generation**: Models that generate music based on input parameters, such as music style, genre, and mood.\n",
       "4. **Video Generation**: Models that generate videos based on input parameters, such as video style, genre, and content.\n",
       "\n",
       "Applications of Gen AI:\n",
       "\n",
       "1. **Content creation**: Gen AI can be used to generate content for various industries, such as media, entertainment, marketing, and education.\n",
       "2. **Art and design**: Gen AI can be used to create art, design, and architecture that is novel, innovative, and aesthetically pleasing.\n",
       "3. **Virtual assistants**: Gen AI can be used to power virtual assistants that can converse, answer questions, and provide customer support.\n",
       "4. **Gaming**: Gen AI can be used to generate game content, such as levels, characters, and storylines.\n",
       "\n",
       "Examples of Gen AI models:\n",
       "\n",
       "1. **ChatGPT**: A text-based conversational AI model that can generate human-like responses to user input.\n",
       "2. **DALL-E**: A text-to-image model that can generate images based on input text prompts.\n",
       "3. **Midjourney**: A text-to-image model that can generate images based on input text prompts.\n",
       "4. **Amper Music**: A music generation model that can create music based on input parameters.\n",
       "\n",
       "Benefits of Gen AI:\n",
       "\n",
       "1. **Increased productivity**: Gen AI can automate content creation, freeing up human time and resources for more strategic and creative tasks.\n",
       "2. **Improved creativity**: Gen AI can generate novel and innovative ideas that may not have been possible for humans to conceive on their own.\n",
       "3. **Enhanced customer experience**: Gen AI can be used to create personalized and engaging experiences for customers.\n",
       "\n",
       "However, Gen AI also raises concerns about:\n",
       "\n",
       "1. **Bias and fairness**: Gen AI models can inherit biases from the data they are trained on, which can lead to unfair outcomes.\n",
       "2. **Job displacement**: Gen AI can automate tasks that were previously performed by humans, which can lead to job displacement.\n",
       "3. **Intellectual property**: Gen AI raises questions about ownership and copyright of generated content.\n",
       "\n",
       "Overall, Gen AI has the potential to revolutionize various industries and aspects of our lives, but it also requires careful consideration of its limitations, challenges, and implications."
      ],
      "text/plain": [
       "<IPython.core.display.Markdown object>"
      ]
     },
     "metadata": {},
     "output_type": "display_data"
    }
   ],
   "source": [
    "from IPython.display import display, Markdown\n",
    "display(Markdown(output_groq.content))\n",
    "\n"
   ]
  },
  {
   "cell_type": "code",
   "execution_count": null,
   "metadata": {},
   "outputs": [],
   "source": []
  }
 ],
 "metadata": {
  "kernelspec": {
   "display_name": "workshop",
   "language": "python",
   "name": "python3"
  },
  "language_info": {
   "codemirror_mode": {
    "name": "ipython",
    "version": 3
   },
   "file_extension": ".py",
   "mimetype": "text/x-python",
   "name": "python",
   "nbconvert_exporter": "python",
   "pygments_lexer": "ipython3",
   "version": "3.10.15"
  }
 },
 "nbformat": 4,
 "nbformat_minor": 2
}
